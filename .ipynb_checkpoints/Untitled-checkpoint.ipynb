{
 "cells": [
  {
   "cell_type": "code",
   "execution_count": 1,
   "id": "fbfeac91-4c1b-4be8-afb6-0482250525c2",
   "metadata": {
    "tags": []
   },
   "outputs": [
    {
     "data": {
      "text/html": [
       "<div>\n",
       "<style scoped>\n",
       "    .dataframe tbody tr th:only-of-type {\n",
       "        vertical-align: middle;\n",
       "    }\n",
       "\n",
       "    .dataframe tbody tr th {\n",
       "        vertical-align: top;\n",
       "    }\n",
       "\n",
       "    .dataframe thead th {\n",
       "        text-align: right;\n",
       "    }\n",
       "</style>\n",
       "<table border=\"1\" class=\"dataframe\">\n",
       "  <thead>\n",
       "    <tr style=\"text-align: right;\">\n",
       "      <th></th>\n",
       "      <th>nm_produto</th>\n",
       "      <th>ds_classe2</th>\n",
       "      <th>vl_total</th>\n",
       "    </tr>\n",
       "  </thead>\n",
       "  <tbody>\n",
       "    <tr>\n",
       "      <th>0</th>\n",
       "      <td>Acem Lombinho Friboi Reserva Kg</td>\n",
       "      <td>Acougue</td>\n",
       "      <td>20.78</td>\n",
       "    </tr>\n",
       "    <tr>\n",
       "      <th>1</th>\n",
       "      <td>Acem Moida DeliCia A/S Kg</td>\n",
       "      <td>Acougue</td>\n",
       "      <td>19569.53</td>\n",
       "    </tr>\n",
       "    <tr>\n",
       "      <th>2</th>\n",
       "      <td>Acem S/O DeliCia A/S Peca Kg</td>\n",
       "      <td>Acougue</td>\n",
       "      <td>1931.24</td>\n",
       "    </tr>\n",
       "    <tr>\n",
       "      <th>3</th>\n",
       "      <td>Acem S/O DeliCia A/S Pedaco Kg</td>\n",
       "      <td>Acougue</td>\n",
       "      <td>24885.77</td>\n",
       "    </tr>\n",
       "    <tr>\n",
       "      <th>4</th>\n",
       "      <td>Agulha Ou Acem Com Osso Kg</td>\n",
       "      <td>Acougue</td>\n",
       "      <td>206.02</td>\n",
       "    </tr>\n",
       "  </tbody>\n",
       "</table>\n",
       "</div>"
      ],
      "text/plain": [
       "                        nm_produto ds_classe2  vl_total\n",
       "0  Acem Lombinho Friboi Reserva Kg    Acougue     20.78\n",
       "1        Acem Moida DeliCia A/S Kg    Acougue  19569.53\n",
       "2     Acem S/O DeliCia A/S Peca Kg    Acougue   1931.24\n",
       "3   Acem S/O DeliCia A/S Pedaco Kg    Acougue  24885.77\n",
       "4       Agulha Ou Acem Com Osso Kg    Acougue    206.02"
      ]
     },
     "execution_count": 1,
     "metadata": {},
     "output_type": "execute_result"
    }
   ],
   "source": [
    "import pandas as pd\n",
    "df_analise_consumo = pd.read_parquet(\"analise_consumo.parquet\")\n",
    "df_analise_consumo.head()"
   ]
  },
  {
   "cell_type": "code",
   "execution_count": 26,
   "id": "c17a7a68-4fbf-4eb9-8b4a-0a9ab5b5377f",
   "metadata": {
    "tags": []
   },
   "outputs": [
    {
     "data": {
      "text/html": [
       "<div>\n",
       "<style scoped>\n",
       "    .dataframe tbody tr th:only-of-type {\n",
       "        vertical-align: middle;\n",
       "    }\n",
       "\n",
       "    .dataframe tbody tr th {\n",
       "        vertical-align: top;\n",
       "    }\n",
       "\n",
       "    .dataframe thead th {\n",
       "        text-align: right;\n",
       "    }\n",
       "</style>\n",
       "<table border=\"1\" class=\"dataframe\">\n",
       "  <thead>\n",
       "    <tr style=\"text-align: right;\">\n",
       "      <th></th>\n",
       "      <th>nm_produto</th>\n",
       "      <th>ds_classe2</th>\n",
       "      <th>vl_total</th>\n",
       "    </tr>\n",
       "  </thead>\n",
       "  <tbody>\n",
       "    <tr>\n",
       "      <th>0</th>\n",
       "      <td>Acem Lombinho Friboi Reserva Kg</td>\n",
       "      <td>Acougue</td>\n",
       "      <td>20.78</td>\n",
       "    </tr>\n",
       "    <tr>\n",
       "      <th>1</th>\n",
       "      <td>Acem Moida DeliCia A/S Kg</td>\n",
       "      <td>Acougue</td>\n",
       "      <td>19569.53</td>\n",
       "    </tr>\n",
       "    <tr>\n",
       "      <th>2</th>\n",
       "      <td>Acem S/O DeliCia A/S Peca Kg</td>\n",
       "      <td>Acougue</td>\n",
       "      <td>1931.24</td>\n",
       "    </tr>\n",
       "    <tr>\n",
       "      <th>3</th>\n",
       "      <td>Acem S/O DeliCia A/S Pedaco Kg</td>\n",
       "      <td>Acougue</td>\n",
       "      <td>24885.77</td>\n",
       "    </tr>\n",
       "    <tr>\n",
       "      <th>4</th>\n",
       "      <td>Agulha Ou Acem Com Osso Kg</td>\n",
       "      <td>Acougue</td>\n",
       "      <td>206.02</td>\n",
       "    </tr>\n",
       "  </tbody>\n",
       "</table>\n",
       "</div>"
      ],
      "text/plain": [
       "                        nm_produto ds_classe2  vl_total\n",
       "0  Acem Lombinho Friboi Reserva Kg    Acougue     20.78\n",
       "1        Acem Moida DeliCia A/S Kg    Acougue  19569.53\n",
       "2     Acem S/O DeliCia A/S Peca Kg    Acougue   1931.24\n",
       "3   Acem S/O DeliCia A/S Pedaco Kg    Acougue  24885.77\n",
       "4       Agulha Ou Acem Com Osso Kg    Acougue    206.02"
      ]
     },
     "execution_count": 26,
     "metadata": {},
     "output_type": "execute_result"
    }
   ],
   "source": [
    "df_setor = df_analise_consumo[df_analise_consumo[\"ds_classe2\"] == \"Acougue\"]\n",
    "df_setor = df_setor.sort_values(\"vl_total\",ascending=False).reset_index(drop=True)\n",
    "df_filt = df_setor.iloc[:top_produtos]\n",
    "produtos = df_filt[\"nm_produto\"].to_list()\n",
    "valores = df_filt[\"nm_produto\"].to_list()\n",
    "fig = go.Figure(go.Bar(\n",
    "    y = produtos,\n",
    "    x = valores,\n",
    "        \n",
    "    ))\n",
    "fig.show()"
   ]
  },
  {
   "cell_type": "code",
   "execution_count": 29,
   "id": "deb19415-ba98-43ed-8478-a9a115d45826",
   "metadata": {
    "tags": []
   },
   "outputs": [
    {
     "data": {
      "text/html": [
       "<div>\n",
       "<style scoped>\n",
       "    .dataframe tbody tr th:only-of-type {\n",
       "        vertical-align: middle;\n",
       "    }\n",
       "\n",
       "    .dataframe tbody tr th {\n",
       "        vertical-align: top;\n",
       "    }\n",
       "\n",
       "    .dataframe thead th {\n",
       "        text-align: right;\n",
       "    }\n",
       "</style>\n",
       "<table border=\"1\" class=\"dataframe\">\n",
       "  <thead>\n",
       "    <tr style=\"text-align: right;\">\n",
       "      <th></th>\n",
       "      <th>nm_produto</th>\n",
       "      <th>ds_classe2</th>\n",
       "      <th>vl_total</th>\n",
       "    </tr>\n",
       "  </thead>\n",
       "  <tbody>\n",
       "    <tr>\n",
       "      <th>0</th>\n",
       "      <td>Coxao Mole Porcionado Kg</td>\n",
       "      <td>Acougue</td>\n",
       "      <td>190516.92</td>\n",
       "    </tr>\n",
       "    <tr>\n",
       "      <th>1</th>\n",
       "      <td>Alcatra Com Maminha Pedaco Kg</td>\n",
       "      <td>Acougue</td>\n",
       "      <td>149861.27</td>\n",
       "    </tr>\n",
       "    <tr>\n",
       "      <th>2</th>\n",
       "      <td>Alcatra Porcionada Kg</td>\n",
       "      <td>Acougue</td>\n",
       "      <td>116617.56</td>\n",
       "    </tr>\n",
       "    <tr>\n",
       "      <th>3</th>\n",
       "      <td>Contra File Com Osso Kg</td>\n",
       "      <td>Acougue</td>\n",
       "      <td>110878.39</td>\n",
       "    </tr>\n",
       "    <tr>\n",
       "      <th>4</th>\n",
       "      <td>Costela Bovina Resf.Kg</td>\n",
       "      <td>Acougue</td>\n",
       "      <td>97984.46</td>\n",
       "    </tr>\n",
       "  </tbody>\n",
       "</table>\n",
       "</div>"
      ],
      "text/plain": [
       "                      nm_produto ds_classe2   vl_total\n",
       "0       Coxao Mole Porcionado Kg    Acougue  190516.92\n",
       "1  Alcatra Com Maminha Pedaco Kg    Acougue  149861.27\n",
       "2          Alcatra Porcionada Kg    Acougue  116617.56\n",
       "3        Contra File Com Osso Kg    Acougue  110878.39\n",
       "4         Costela Bovina Resf.Kg    Acougue   97984.46"
      ]
     },
     "execution_count": 29,
     "metadata": {},
     "output_type": "execute_result"
    }
   ],
   "source": [
    "df_acougue = df_acougue.sort_values(\"vl_total\",ascending=False).reset_index(drop=True)\n",
    "df_acougue.head()"
   ]
  },
  {
   "cell_type": "code",
   "execution_count": 28,
   "id": "fa24f404-ede9-46e8-8ed0-8fdb6e1a84a0",
   "metadata": {
    "tags": []
   },
   "outputs": [
    {
     "data": {
      "text/plain": [
       "'Coxao Mole Porcionado Kg'"
      ]
     },
     "execution_count": 28,
     "metadata": {},
     "output_type": "execute_result"
    }
   ],
   "source": [
    "df_ord[\"nm_produto\"][0]"
   ]
  },
  {
   "cell_type": "code",
   "execution_count": 3,
   "id": "52319e5b-d1ec-4a15-ae0e-32ef4361af9f",
   "metadata": {
    "tags": []
   },
   "outputs": [
    {
     "data": {
      "text/html": [
       "<div>\n",
       "<style scoped>\n",
       "    .dataframe tbody tr th:only-of-type {\n",
       "        vertical-align: middle;\n",
       "    }\n",
       "\n",
       "    .dataframe tbody tr th {\n",
       "        vertical-align: top;\n",
       "    }\n",
       "\n",
       "    .dataframe thead th {\n",
       "        text-align: right;\n",
       "    }\n",
       "</style>\n",
       "<table border=\"1\" class=\"dataframe\">\n",
       "  <thead>\n",
       "    <tr style=\"text-align: right;\">\n",
       "      <th></th>\n",
       "      <th>ds_classe2</th>\n",
       "      <th>vl_total</th>\n",
       "    </tr>\n",
       "  </thead>\n",
       "  <tbody>\n",
       "    <tr>\n",
       "      <th>0</th>\n",
       "      <td>Limpeza</td>\n",
       "      <td>3428945.29</td>\n",
       "    </tr>\n",
       "    <tr>\n",
       "      <th>1</th>\n",
       "      <td>Seca Pesada</td>\n",
       "      <td>2909269.30</td>\n",
       "    </tr>\n",
       "    <tr>\n",
       "      <th>2</th>\n",
       "      <td>Bebidas Frias</td>\n",
       "      <td>2635628.02</td>\n",
       "    </tr>\n",
       "    <tr>\n",
       "      <th>3</th>\n",
       "      <td>Perfumaria/Higiene E Beleza</td>\n",
       "      <td>2598030.31</td>\n",
       "    </tr>\n",
       "    <tr>\n",
       "      <th>4</th>\n",
       "      <td>Seca Leve</td>\n",
       "      <td>2420431.66</td>\n",
       "    </tr>\n",
       "  </tbody>\n",
       "</table>\n",
       "</div>"
      ],
      "text/plain": [
       "                    ds_classe2    vl_total\n",
       "0                      Limpeza  3428945.29\n",
       "1                  Seca Pesada  2909269.30\n",
       "2                Bebidas Frias  2635628.02\n",
       "3  Perfumaria/Higiene E Beleza  2598030.31\n",
       "4                    Seca Leve  2420431.66"
      ]
     },
     "execution_count": 3,
     "metadata": {},
     "output_type": "execute_result"
    }
   ],
   "source": [
    "df_setores = df_setores.reset_index()\n",
    "df_setores.columns = [\"ds_classe2\",\"vl_total\"]\n",
    "df_setores.head()"
   ]
  },
  {
   "cell_type": "code",
   "execution_count": 5,
   "id": "f942f51a-e1d1-4f5b-bc3c-0442ccda3404",
   "metadata": {
    "tags": []
   },
   "outputs": [
    {
     "data": {
      "text/plain": [
       "['Limpeza',\n",
       " 'Seca Pesada',\n",
       " 'Bebidas Frias',\n",
       " 'Perfumaria/Higiene E Beleza',\n",
       " 'Seca Leve',\n",
       " 'Acougue',\n",
       " 'Seca Doce']"
      ]
     },
     "execution_count": 5,
     "metadata": {},
     "output_type": "execute_result"
    }
   ],
   "source": [
    "df_setores.head(7)[\"ds_classe2\"].to_list()"
   ]
  }
 ],
 "metadata": {
  "kernelspec": {
   "display_name": "Python 3 (ipykernel)",
   "language": "python",
   "name": "python3"
  },
  "language_info": {
   "codemirror_mode": {
    "name": "ipython",
    "version": 3
   },
   "file_extension": ".py",
   "mimetype": "text/x-python",
   "name": "python",
   "nbconvert_exporter": "python",
   "pygments_lexer": "ipython3",
   "version": "3.11.4"
  }
 },
 "nbformat": 4,
 "nbformat_minor": 5
}
